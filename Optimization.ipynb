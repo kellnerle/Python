{
 "cells": [
  {
   "cell_type": "code",
   "execution_count": 19,
   "metadata": {},
   "outputs": [
    {
     "name": "stdout",
     "output_type": "stream",
     "text": [
      "Defaulting to user installation because normal site-packages is not writeable\n",
      "Requirement already satisfied: gurobipy in c:\\users\\kelln\\appdata\\local\\packages\\pythonsoftwarefoundation.python.3.12_qbz5n2kfra8p0\\localcache\\local-packages\\python312\\site-packages (12.0.1)\n"
     ]
    },
    {
     "name": "stderr",
     "output_type": "stream",
     "text": [
      "\n",
      "[notice] A new release of pip is available: 24.3.1 -> 25.0\n",
      "[notice] To update, run: C:\\Users\\kelln\\AppData\\Local\\Microsoft\\WindowsApps\\PythonSoftwareFoundation.Python.3.12_qbz5n2kfra8p0\\python.exe -m pip install --upgrade pip\n"
     ]
    }
   ],
   "source": [
    "!pip install gurobipy"
   ]
  },
  {
   "cell_type": "code",
   "execution_count": 20,
   "metadata": {},
   "outputs": [],
   "source": [
    "import numpy as np\n",
    "import gurobipy as gp\n",
    "from gurobipy import GRB"
   ]
  },
  {
   "cell_type": "markdown",
   "metadata": {},
   "source": [
    "#### Part a) Define Matrices and Vectors"
   ]
  },
  {
   "cell_type": "code",
   "execution_count": 21,
   "metadata": {},
   "outputs": [],
   "source": [
    "# Matrix A\n",
    "A = np.array([\n",
    "    # Time constraints for each operation (Ingr Prep, Formulation, Packaging)\n",
    "    [2.5, 2.0, 1.8, 1.2],  # Ingredient preparation times\n",
    "    [12, 10, 8, 5],        # Formulation times\n",
    "    [10, 8, 6, 4],         # Packaging times\n",
    "    # Policy constraints\n",
    "    [0, -1, 0, 1],         # Vaccine B >= Vaccine D constraint\n",
    "    [0, 0, 0, 1],          # Minimum 5 batches of Vaccine D constraint\n",
    "])"
   ]
  },
  {
   "cell_type": "code",
   "execution_count": 22,
   "metadata": {},
   "outputs": [],
   "source": [
    "# Vector B: RHS of constraints\n",
    "b =np.array([\n",
    "    65, #Ingredient prep time limit\n",
    "    95, #Formulation time limit\n",
    "    80, #Packaging time limit\n",
    "    0, #B >= D constraint\n",
    "    5 #Minimum D constraint\n",
    "])"
   ]
  },
  {
   "cell_type": "code",
   "execution_count": 23,
   "metadata": {},
   "outputs": [],
   "source": [
    "# C: Objective function coefficients\n",
    "c = np.array([20, 18, 15, 8])"
   ]
  },
  {
   "cell_type": "markdown",
   "metadata": {},
   "source": [
    "#### Part B: Define and solve the problem"
   ]
  },
  {
   "cell_type": "code",
   "execution_count": 24,
   "metadata": {},
   "outputs": [],
   "source": [
    "def solve_primal():\n",
    "    model = gp.Model(\"vaccine_primal\")\n",
    "    \n",
    "    # Create variables\n",
    "    x = model.addMVar(4, vtype=GRB.CONTINUOUS, name=\"x\")\n",
    "    \n",
    "    # Set objective\n",
    "    model.setObjective(c @ x, GRB.MAXIMIZE)\n",
    "    \n",
    "    # Add constraints\n",
    "    model.addConstr(A @ x <= b)\n",
    "    \n",
    "    # Optimize\n",
    "    model.optimize()\n",
    "    \n",
    "    # Save model to file\n",
    "    model.write(\"primal.lp\")\n",
    "    \n",
    "    # Print results\n",
    "    if model.status == GRB.OPTIMAL:\n",
    "        print(\"\\nPrimal Solution:\")\n",
    "        print(f\"Optimal value: {model.objVal}\")\n",
    "        print(\"Variable values:\")\n",
    "        for i, var in enumerate(x):\n",
    "            print(f\"x{i+1}: {var.x}\")\n",
    "    \n",
    "    return model"
   ]
  },
  {
   "cell_type": "markdown",
   "metadata": {},
   "source": [
    "#### Part C: Define and solve the dual problem"
   ]
  },
  {
   "cell_type": "code",
   "execution_count": 25,
   "metadata": {},
   "outputs": [],
   "source": [
    "def solve_dual():\n",
    "    model = gp.Model(\"vaccine_dual\")\n",
    "    \n",
    "    # Add variables (y1 through y5)\n",
    "    y = model.addMVar(5, vtype=GRB.CONTINUOUS, name=\"y\")\n",
    "    \n",
    "    # Set objective: Minimize b^T y\n",
    "    model.setObjective(b @ y, GRB.MINIMIZE)\n",
    "    \n",
    "    # Add constraints\n",
    "    model.addConstr(A.T @ y >= c)\n",
    "    \n",
    "    # Optimize\n",
    "    model.optimize()\n",
    "    \n",
    "    # Save Model to file\n",
    "    model.write(\"dual.lp\")\n",
    "    \n",
    "    # Print results\n",
    "    if model.status == GRB.OPTIMAL:\n",
    "        print(\"\\nDual Solution:\")\n",
    "        print(f\"Optimal Value: {model.objVal}\")\n",
    "        print(\"Shadow Prices:\")\n",
    "        resources = [\"Ingredient Prep\", \"Formulation\", \"Packaging\", \"B >= D Policy\", \"Min D Requirement\"]\n",
    "        for i, var in enumerate(y):\n",
    "            print(f\"y{i+1} ({resources[i]}): {var.x}\")\n",
    "        \n",
    "        return model"
   ]
  },
  {
   "cell_type": "markdown",
   "metadata": {},
   "source": [
    "#### Part D: Solve both problems"
   ]
  },
  {
   "cell_type": "code",
   "execution_count": 26,
   "metadata": {},
   "outputs": [
    {
     "name": "stdout",
     "output_type": "stream",
     "text": [
      "Solving Primal Problem...\n",
      "Gurobi Optimizer version 12.0.1 build v12.0.1rc0 (win64 - Windows 11.0 (26100.2))\n",
      "\n",
      "CPU model: Intel(R) Core(TM) Ultra 7 155U, instruction set [SSE2|AVX|AVX2]\n",
      "Thread count: 12 physical cores, 14 logical processors, using up to 14 threads\n",
      "\n",
      "Optimize a model with 5 rows, 4 columns and 15 nonzeros\n",
      "Model fingerprint: 0x6a714b6d\n",
      "Coefficient statistics:\n",
      "  Matrix range     [1e+00, 1e+01]\n",
      "  Objective range  [8e+00, 2e+01]\n",
      "  Bounds range     [0e+00, 0e+00]\n",
      "  RHS range        [5e+00, 1e+02]\n",
      "Presolve removed 2 rows and 0 columns\n",
      "Presolve time: 0.01s\n",
      "Presolved: 3 rows, 4 columns, 12 nonzeros\n",
      "\n",
      "Iteration    Objective       Primal Inf.    Dual Inf.      Time\n",
      "       0    5.8500000e+02   4.861450e+01   0.000000e+00      0s\n",
      "       3    1.7812500e+02   0.000000e+00   0.000000e+00      0s\n",
      "\n",
      "Solved in 3 iterations and 0.01 seconds (0.00 work units)\n",
      "Optimal objective  1.781250000e+02\n",
      "\n",
      "Primal Solution:\n",
      "Optimal value: 178.125\n",
      "Variable values:\n",
      "x1: 0.0\n",
      "x2: 0.0\n",
      "x3: 11.875\n",
      "x4: 0.0\n",
      "\n",
      "Solving Dual Problem...\n",
      "Gurobi Optimizer version 12.0.1 build v12.0.1rc0 (win64 - Windows 11.0 (26100.2))\n",
      "\n",
      "CPU model: Intel(R) Core(TM) Ultra 7 155U, instruction set [SSE2|AVX|AVX2]\n",
      "Thread count: 12 physical cores, 14 logical processors, using up to 14 threads\n",
      "\n",
      "Optimize a model with 4 rows, 5 columns and 15 nonzeros\n",
      "Model fingerprint: 0x6ad06869\n",
      "Coefficient statistics:\n",
      "  Matrix range     [1e+00, 1e+01]\n",
      "  Objective range  [5e+00, 1e+02]\n",
      "  Bounds range     [0e+00, 0e+00]\n",
      "  RHS range        [8e+00, 2e+01]\n",
      "Presolve time: 0.01s\n",
      "Presolved: 4 rows, 5 columns, 15 nonzeros\n",
      "\n",
      "Iteration    Objective       Primal Inf.    Dual Inf.      Time\n",
      "       0    0.0000000e+00   2.500000e+01   0.000000e+00      0s\n",
      "       3    1.7812500e+02   0.000000e+00   0.000000e+00      0s\n",
      "\n",
      "Solved in 3 iterations and 0.01 seconds (0.00 work units)\n",
      "Optimal objective  1.781250000e+02\n",
      "\n",
      "Dual Solution:\n",
      "Optimal Value: 178.125\n",
      "Shadow Prices:\n",
      "y1 (Ingredient Prep): 0.0\n",
      "y2 (Formulation): 1.875\n",
      "y3 (Packaging): 0.0\n",
      "y4 (B >= D Policy): 0.0\n",
      "y5 (Min D Requirement): 0.0\n",
      "\n",
      "Strong duality holds - optimal values match!\n",
      "Primal objective value: 178.125\n",
      "Dual objective value: 178.125\n"
     ]
    }
   ],
   "source": [
    "print(\"Solving Primal Problem...\")\n",
    "primal_model = solve_primal()\n",
    "\n",
    "print(\"\\nSolving Dual Problem...\")\n",
    "dual_model = solve_dual()\n",
    "\n",
    "if primal_model.status == GRB.OPTIMAL and dual_model.status == GRB.OPTIMAL:\n",
    "    print(\"\\nStrong duality holds - optimal values match!\")\n",
    "    print(f\"Primal objective value: {primal_model.objVal}\")\n",
    "    print(f\"Dual objective value: {dual_model.objVal}\")"
   ]
  },
  {
   "cell_type": "markdown",
   "metadata": {},
   "source": []
  }
 ],
 "metadata": {
  "kernelspec": {
   "display_name": "Python 3",
   "language": "python",
   "name": "python3"
  },
  "language_info": {
   "codemirror_mode": {
    "name": "ipython",
    "version": 3
   },
   "file_extension": ".py",
   "mimetype": "text/x-python",
   "name": "python",
   "nbconvert_exporter": "python",
   "pygments_lexer": "ipython3",
   "version": "3.12.8"
  }
 },
 "nbformat": 4,
 "nbformat_minor": 2
}
